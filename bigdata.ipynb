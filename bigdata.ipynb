{
 "cells": [
  {
   "cell_type": "code",
   "execution_count": null,
   "id": "7ba40b4a-ea05-48ea-a615-48c1dfb2d693",
   "metadata": {},
   "outputs": [],
   "source": [
    "import pandas as pd\n",
    "import glob\n",
    "import os"
   ]
  },
  {
   "cell_type": "code",
   "execution_count": null,
   "id": "9fb5aeab-4227-41f1-a140-d485be95cbd9",
   "metadata": {},
   "outputs": [],
   "source": [
    "df2018green = pd.concat(map(pd.read_csv, glob.glob(os.path.join('', \"data/green_tripdata_2018*.csv\"))))"
   ]
  },
  {
   "cell_type": "code",
   "execution_count": null,
   "id": "bc12007f-fc0c-4a76-b69c-026e7e4d1cf9",
   "metadata": {},
   "outputs": [],
   "source": [
    "data_top1 = df2018green.head()\n",
    "data_top1"
   ]
  },
  {
   "cell_type": "code",
   "execution_count": null,
   "id": "715a07c2-3739-4532-befd-1c38f005b068",
   "metadata": {},
   "outputs": [],
   "source": [
    "df2020green = pd.concat(map(pd.read_csv, glob.glob(os.path.join('', \"data/green_tripdata_2020*.csv\"))))"
   ]
  },
  {
   "cell_type": "code",
   "execution_count": null,
   "id": "d6f42d6f-c482-45e7-a415-5eb14a8798b5",
   "metadata": {},
   "outputs": [],
   "source": [
    "data_top3 = df2020green.head()\n",
    "data_top3"
   ]
  },
  {
   "cell_type": "code",
   "execution_count": null,
   "id": "e9450a16-13c6-4555-ac40-9ca9abec05ca",
   "metadata": {},
   "outputs": [],
   "source": [
    "df2018yellow = pd.concat(map(pd.read_csv, glob.glob(os.path.join('', \"data/yellow_tripdata_2018*.csv\"))))"
   ]
  },
  {
   "cell_type": "code",
   "execution_count": null,
   "id": "579a3d3c-b498-4339-8984-5984de88be54",
   "metadata": {},
   "outputs": [],
   "source": [
    "data_top2 = df018yellow.head()\n",
    "data_top2"
   ]
  },
  {
   "cell_type": "code",
   "execution_count": null,
   "id": "7d5f06dd-1838-4d29-89ec-6cf8c3e2a622",
   "metadata": {},
   "outputs": [],
   "source": [
    "df2020yellow = pd.concat(map(pd.read_csv, glob.glob(os.path.join('', \"data/yellow_tripdata_2020*.csv\"))))"
   ]
  },
  {
   "cell_type": "code",
   "execution_count": null,
   "id": "351a1d16-ca73-4457-9800-1c5da4cc9884",
   "metadata": {},
   "outputs": [],
   "source": [
    "data_top4 = df2020yellow.head()\n",
    "data_top4"
   ]
  },
  {
   "cell_type": "code",
   "execution_count": null,
   "id": "1f4e3558-acc1-4fa6-8ad8-103f4b0b67d7",
   "metadata": {},
   "outputs": [],
   "source": []
  }
 ],
 "metadata": {
  "kernelspec": {
   "display_name": "Python 3 (ipykernel)",
   "language": "python",
   "name": "python3"
  },
  "language_info": {
   "codemirror_mode": {
    "name": "ipython",
    "version": 3
   },
   "file_extension": ".py",
   "mimetype": "text/x-python",
   "name": "python",
   "nbconvert_exporter": "python",
   "pygments_lexer": "ipython3",
   "version": "3.9.7"
  }
 },
 "nbformat": 4,
 "nbformat_minor": 5
}
